{
 "cells": [
  {
   "cell_type": "code",
   "execution_count": 3,
   "id": "a3305e3c",
   "metadata": {},
   "outputs": [],
   "source": [
    "import pprint\n",
    "import os\n",
    "import numpy as np\n",
    "import pandas as pd\n",
    "from pathlib import Path\n",
    "from rdkit import Chem\n",
    "from rdkit.Chem import Draw\n",
    "from rdkit.Chem.Draw import IPythonConsole\n",
    "from rxn_insight.reaction import Reaction\n",
    "from aizynthfinder.aizynthfinder import AiZynthExpander\n",
    "from dotenv import load_dotenv\n",
    "from retrogsf import rxn_info\n",
    "from retrogsf import retrosynthesis_reaction_smiles\n",
    "from retrogsf import get_solvents_for_reaction"
   ]
  },
  {
   "cell_type": "code",
   "execution_count": 2,
   "id": "6737eff5",
   "metadata": {},
   "outputs": [],
   "source": [
    "import sys\n",
    "from pathlib import Path\n",
    "\n",
    "# Add the src directory to sys.path\n",
    "src_path = Path().resolve().parent / \"src\"\n",
    "if str(src_path) not in sys.path:\n",
    "    sys.path.insert(0, str(src_path))"
   ]
  },
  {
   "cell_type": "code",
   "execution_count": 4,
   "id": "9a458ba3",
   "metadata": {},
   "outputs": [
    {
     "name": "stderr",
     "output_type": "stream",
     "text": [
      "Some weights of the model checkpoint at /usr/local/Caskroom/miniconda/base/envs/retrogsf/lib/python3.10/site-packages/rxnmapper/models/transformers/albert_heads_8_uspto_all_1310k were not used when initializing AlbertModel: ['predictions.dense.bias', 'predictions.bias', 'predictions.dense.weight', 'predictions.decoder.bias', 'predictions.LayerNorm.weight', 'predictions.LayerNorm.bias', 'predictions.decoder.weight']\n",
      "- This IS expected if you are initializing AlbertModel from the checkpoint of a model trained on another task or with another architecture (e.g. initializing a BertForSequenceClassification model from a BertForPreTraining model).\n",
      "- This IS NOT expected if you are initializing AlbertModel from the checkpoint of a model that you expect to be exactly identical (initializing a BertForSequenceClassification model from a BertForSequenceClassification model).\n"
     ]
    },
    {
     "name": "stdout",
     "output_type": "stream",
     "text": [
      "Hydrolysis or Hydrogenolysis of Carboxylic Esters or Thioesters\n"
     ]
    }
   ],
   "source": [
    "\n",
    "\n",
    "product = \"CC(=O)OC1=CC=CC=C1C(=O)O\" # Test with Aspirin\n",
    "config_path = \"/Users/diego/testing/config.yml\" \n",
    "\n",
    "result = retrosynthesis_reaction_smiles(product, config_path)\n",
    "reaction_information = rxn_info(result)\n",
    "\n",
    "print(reaction_information)"
   ]
  },
  {
   "cell_type": "code",
   "execution_count": 5,
   "id": "d1348eb1",
   "metadata": {},
   "outputs": [
    {
     "name": "stdout",
     "output_type": "stream",
     "text": [
      "CCO\n"
     ]
    }
   ],
   "source": [
    "\n",
    "solvents = get_solvents_for_reaction(reaction_information)\n",
    "\n",
    "print(solvents)"
   ]
  }
 ],
 "metadata": {
  "kernelspec": {
   "display_name": "retrogsf",
   "language": "python",
   "name": "python3"
  },
  "language_info": {
   "codemirror_mode": {
    "name": "ipython",
    "version": 3
   },
   "file_extension": ".py",
   "mimetype": "text/x-python",
   "name": "python",
   "nbconvert_exporter": "python",
   "pygments_lexer": "ipython3",
   "version": "3.10.16"
  }
 },
 "nbformat": 4,
 "nbformat_minor": 5
}
