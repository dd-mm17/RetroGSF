{
 "cells": [
  {
   "cell_type": "markdown",
   "metadata": {},
   "source": [
    "Marche à suivre :\n",
    "\n",
    " 1. AIZynthfinder - returnsynthese des reactifs\n",
    " 2. Group by reaction types (us) then using Pandas dataframe to sort database into reaction groups: USPTO-50K \n",
    " 3. Predict solvent per group - article \n",
    " 4. Substitute by greenest solvent"
   ]
  },
  {
   "cell_type": "markdown",
   "metadata": {},
   "source": [
    "# Introduction\n",
    "\n",
    "Molecule synthesis is a fundamental aspect of chemistry, playing a particularly central role in organic chemistry. However, alongside the valuable compounds produced, chemical processes often generate significant amounts of waste. Among the various contributors to this waste, solvents play a particularly important role. They are widely used to dissolve reagents, regulate reaction temperatures, and assist in purification steps. Unfortunately, many of these solvents are volatile, toxic, and difficult to recycle. In fact, solvents can represent up to 90% of the total mass used in a typical chemical process, making their careful selection a critical concern in sustainable chemistry.\n",
    "\n",
    "The concept of green chemistry was introduced in the 1990s. Green chemistry focuses on designing products and processes that minimize the use and generation of hazardous substances. Beyond reducing environmental impact, it also aims to improve process efficiency, lower operational costs, and enhance safety for both people and the environment.\n",
    "\n",
    "The primary motivation behind this project is to reduce the environmental footprint of chemical synthesis by identifying greener solvent alternatives, provide a user-friendly tool for chemists to integrate sustainability into their workflows and finally promote green chemistry principles in both academic and industrial settings.\n",
    "\n",
    "To support these goals, our package RetroGSF (Retrosynthesis Green Solvents Finder) was developed. This tool identifies possible synthetic pathways for a given target molecule using the retrosynthetic algorithm AiZynthFinder. It then determines the most likely solvent traditionally used for each reaction step and proposes alternative greener solvents based on their impact on human health, environmental safety, and overall sustainability. The aim is to encourage more environmentally responsible decision-making in organic synthesis by offering practical and data-driven alternatives.\n",
    "\n"
   ]
  },
  {
   "cell_type": "markdown",
   "metadata": {},
   "source": [
    "## Functionalities of the package\n",
    "\n",
    "### 1. Retrosynthetic Pathway Identification\n",
    "The retrosynthetic pathway is done using the AiZynthFinder library. AiZynthFinder generates possible synthetic routes for a target molecule by analyzing reaction rules and databases. The tool identifies potential pathways and ranks them based on feasibility and other criteria.\n",
    "\n",
    "The function __retrosynthesis_reaction_smiles__ is designed to perform retrosynthesis for a given target molecule (in SMILES format) and return a table of one-step reactions in forward order. This table includes details such as reactants, products, reaction SMILES and how likely they are to occur.\n",
    "\n",
    "How to use the function:\n",
    "- __Input__ : Provide the target molecule in SMILES format and the    path to the AiZynthFinder configuration file (config.yml).\n",
    "- __Output__ :The function returns a pandas DataFrame containing the retrosynthetic steps, including reactants, products, and reaction SMILES.\n",
    "\n"
   ]
  },
  {
   "cell_type": "code",
   "execution_count": null,
   "metadata": {
    "vscode": {
     "languageId": "plaintext"
    }
   },
   "outputs": [],
   "source": []
  },
  {
   "cell_type": "markdown",
   "metadata": {},
   "source": [
    "### 2. Reaction informations\n",
    "The __rxn_info__ function is designed to extract and return the reaction name or class from a DataFrame containing reaction SMILES.\n",
    "\n",
    "How it works:\n",
    "- Input: A pandas DataFrame (df) that contains a column called 'mapped_reaction_smiles'. This DataFrame is usually the output of the retrosynthesis_reaction_smiles function.\n",
    "- Process:\n",
    "    - Takes the first reaction SMILES from the DataFrame.\n",
    "    - Creates a Reaction object using the rxn_insight.reaction library.\n",
    "    - Calls get_reaction_info() on this object, which returns a dictionary with reaction metadata.\n",
    "\n",
    "    If the \"NAME\" field is not \"OtherReaction\", it returns the value of \"NAME\".  \n",
    "    If the \"NAME\" is \"OtherReaction\", it returns the value of the \"CLASS\" field instead.\n",
    "\n",
    "- Output: A string representing either the specific reaction name or, if unavailable, the broader reaction class."
   ]
  },
  {
   "cell_type": "code",
   "execution_count": null,
   "metadata": {
    "vscode": {
     "languageId": "plaintext"
    }
   },
   "outputs": [],
   "source": []
  },
  {
   "cell_type": "markdown",
   "metadata": {},
   "source": [
    "### 3. Solvant Identification\n",
    "The function takes as input a reaction class or reaction name (such as \"Esterification\" or \"Hydrolysis of Carboxylic Esters\") and a Gemini AI API key. It uses Google Gemini AI to predict the most likely solvent(s) for the given reaction type.\n",
    "\n",
    "How it works:\n",
    "- Input: The reaction class or name (string) and The Gemini AI API key (string or from environment variable).\n",
    "\n",
    "- Process: The function prepares a prompt describing the reaction type and a list of allowed solvents (to ensure the answer is relevant and safe).\n",
    "It sends this prompt to the Gemini AI model using the provided API key.\n",
    "Gemini AI uses its knowledge to suggest up to three likely solvents (in SMILES format) that are commonly used for the specified reaction type.\n",
    "The function returns these solvent SMILES as a string.\n",
    "\n",
    "- Output: A string of one to three SMILES codes for solvents, separated by commas, representing the most likely solvents for the reaction.\n",
    "Use of AI:\n",
    "\n",
    "Why using AI?\n",
    "Gemini AI leverages a large language model trained in multiple domains, allowing it to make informed predictions even for less common or complex reactions.\n"
   ]
  },
  {
   "cell_type": "code",
   "execution_count": null,
   "metadata": {
    "vscode": {
     "languageId": "plaintext"
    }
   },
   "outputs": [],
   "source": []
  },
  {
   "cell_type": "markdown",
   "metadata": {},
   "source": [
    "### 4. Alternative solvants ranking\n",
    "\n",
    "The rank_similar_solvents function identifies and ranks alternative solvents based on their similarity to a target solvent. The ranking is performed using physical properties (e.g., density, dielectric constant, dipole moment, refractive index) and safety/environmental criteria. The function ensures that the recommended solvents are safer and more environmentally friendly than the target solvent.\n",
    "\n",
    "Steps in the Ranking Process:\n",
    "- Input Validation:\n",
    "    - The function checks if the target solvent (SMILES) exists in the dataset.\n",
    "    - If the solvent is classified as hazardous, the user is warned, and only safer alternatives are recommended.\n",
    "\n",
    "- Filtering:\n",
    "    - Solvents classified as \"Hazardous\" or \"Highly Hazardous\" are excluded.\n",
    "    - Solvents with environmental, health, and safety rankings greater than 5 are filtered out.\n",
    "    - Solvents with incompatible melting and boiling points are excluded.\n",
    "\n",
    "- Similarity Scoring:\n",
    "    - A weighted relative distance is calculated for physical properties (e.g., density, dielectric constant, dipole moment, refractive index) compared to the given solvent.\n",
    "    - The similarity score is used to rank solvents, with lower scores indicating higher similarity.\n",
    "\n",
    "- Output the function returns a dictionary containing:\n",
    "    - Target solvent properties. \n",
    "    - Ranked solvents by similarity, environmental impact, health impact, safety, and overall ranking."
   ]
  },
  {
   "cell_type": "code",
   "execution_count": null,
   "metadata": {
    "vscode": {
     "languageId": "plaintext"
    }
   },
   "outputs": [],
   "source": []
  },
  {
   "cell_type": "markdown",
   "metadata": {},
   "source": [
    "# Limitations and improvements\n",
    "\n",
    "### Limitations\n",
    "\n",
    "- **Lack of Reaction-Solvent Database:**  \n",
    "   We were unable to find a complete database that directly links reaction SMILES to the solvents typically used for those reactions. As a result, we relied on AI (Gemini) to predict suitable solvents. While this approach is flexible, it is also time- and energy-consuming, and the quality of the suggestions depends on the AI model's training and context.\n",
    "\n",
    "- **Ranking Criteria Subjectivity:**  \n",
    "   The ranking of alternative solvents is based on physical properties (density, dielectric constant, dipole moment, refractive index) with weights that we subjectively assigned. These weights may not reflect the true importance of each property for all reactions, and the ranking may not always align with practical or industrial preferences.\n",
    "\n",
    "- **Limited Scope of Reaction Types:**  \n",
    "   The retrosynthesis and solvent prediction are limited to reaction types and templates covered by the AiZynthFinder and the USPTO-50K dataset. Uncommon or novel reactions may not be well supported.\n",
    "\n",
    "- **User Expertise Required:**  \n",
    "   Effective use of the tool still requires users to have some background in chemistry, especially to interpret the results and make final decisions.\n",
    "\n",
    "### Improvements\n",
    "\n",
    "- **Develop or Integrate a Reaction-Solvent Database:**  \n",
    "   Building or integrating a complete database that links reaction SMILES or classes to commonly used solvents would improve accuracy and reduce reliance on AI.\n",
    "\n",
    "- **Refine Ranking Methodology:**  \n",
    "   The ranking system could be improved by incorporating feedback from chemists, using machine learning to optimize weights, or including additional criteria such as cost, availability, or regulatory status.\n",
    "\n",
    "- **User Customization:**  \n",
    "   Allowing users to adjust the weights for ranking criteria or to input their own constraints would make the tool more flexible and relevant to specific needs.\n"
   ]
  },
  {
   "cell_type": "markdown",
   "metadata": {},
   "source": [
    "# Conclusion\n",
    "\n",
    "RetroGSF represents a significant step towards integrating green chemistry principles into organic synthesis. By providing data-driven insights and practical alternatives, it empowers chemists to make more sustainable choices in their workflows. While challenges remain, the tool's potential to reduce the environmental impact of chemical processes is substantial. Future developments will focus on expanding its capabilities and accessibility, further promoting the adoption of green chemistry in both academia and industry."
   ]
  }
 ],
 "metadata": {
  "kernelspec": {
   "display_name": "ppppchem",
   "language": "python",
   "name": "python3"
  },
  "language_info": {
   "codemirror_mode": {
    "name": "ipython",
    "version": 3
   },
   "file_extension": ".py",
   "mimetype": "text/x-python",
   "name": "python",
   "nbconvert_exporter": "python",
   "pygments_lexer": "ipython3",
   "version": "3.10.16"
  }
 },
 "nbformat": 4,
 "nbformat_minor": 2
}
